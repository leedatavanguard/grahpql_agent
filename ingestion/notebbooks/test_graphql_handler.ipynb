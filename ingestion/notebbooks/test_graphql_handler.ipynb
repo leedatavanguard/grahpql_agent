{
 "cells": [
  {
   "cell_type": "markdown",
   "metadata": {},
   "source": [
    "# Testing GraphQL Handler\n",
    "\n",
    "This notebook is for testing the GraphQL handler functionality with LiveHeats API."
   ]
  },
  {
   "cell_type": "code",
   "execution_count": null,
   "metadata": {},
   "outputs": [],
   "source": [
    "import os\n",
    "import json\n",
    "import asyncio\n",
    "import logging\n",
    "from pathlib import Path\n",
    "from typing import Dict, Any\n",
    "from dotenv import load_dotenv\n",
    "\n",
    "# Configure logging\n",
    "logging.basicConfig(level=logging.DEBUG)\n",
    "logger = logging.getLogger(__name__)\n",
    "\n",
    "# Add the ingestion package to the path\n",
    "import sys\n",
    "sys.path.append('../src')\n",
    "\n",
    "from ingestion.handlers.graphql.graphql_handler import GraphQLHandler"
   ]
  },
  {
   "cell_type": "markdown",
   "metadata": {},
   "source": [
    "## Load Environment Variables\n",
    "\n",
    "First, let's load the environment variables from .env.liveheats"
   ]
  },
  {
   "cell_type": "code",
   "execution_count": null,
   "metadata": {},
   "outputs": [],
   "source": [
    "# Load environment variables\n",
    "env_path = Path(__file__).parents[2] / \".platform_config\" / \"dev_platform\" / \".env.liveheats\"\n",
    "load_dotenv(env_path)\n",
    "\n",
    "# Print current scope\n",
    "print(f\"Current scope from env: {os.environ.get('SCOPE', 'Not set')}\")"
   ]
  },
  {
   "cell_type": "markdown",
   "metadata": {},
   "source": [
    "## Set Up Test Configuration\n",
    "\n",
    "Now let's set up our test configuration that matches the format in config.yaml"
   ]
  },
  {
   "cell_type": "code",
   "execution_count": null,
   "metadata": {},
   "outputs": [],
   "source": [
    "task_config = {\n",
    "    \"query\": \"\"\"\n",
    "        query OrganisationAthletes($id: ID!, $page: Int!, $per: Int!) {\n",
    "            organisationAthletes(id: $id, page: $page, per: $per) {\n",
    "                athletes {\n",
    "                    id\n",
    "                    name\n",
    "                    dob\n",
    "                    nationality\n",
    "                    properties\n",
    "                    memberships {\n",
    "                        id\n",
    "                    }\n",
    "                }\n",
    "                totalCount\n",
    "            }\n",
    "        }\n",
    "    \"\"\",\n",
    "    \"variables\": {\n",
    "        \"id\": \"1\",  # This should be a valid organization ID\n",
    "        \"page\": 1,\n",
    "        \"per\": 100\n",
    "    },\n",
    "    \"sink\": {\n",
    "        \"type\": \"local\",  # Use local file system instead of S3 for testing\n",
    "        \"key_prefix\": \"lh_organisations\"\n",
    "    }\n",
    "}\n",
    "\n",
    "# Set up mock secrets\n",
    "required_secrets = [\n",
    "    \"CLIENT_ID\",\n",
    "    \"CLIENT_SECRET\",\n",
    "    \"GRAPHQL_URL\",\n",
    "    \"AUTH_URL\",\n",
    "    \"SCOPE\"\n",
    "]\n",
    "\n",
    "# Verify all required secrets are in environment\n",
    "missing = [s for s in required_secrets if s not in os.environ]\n",
    "if missing:\n",
    "    raise ValueError(f\"Missing required environment variables: {missing}\")\n",
    "\n",
    "mock_secrets = {\n",
    "    \"CLIENT_ID\": os.environ[\"CLIENT_ID\"],\n",
    "    \"CLIENT_SECRET\": os.environ[\"CLIENT_SECRET\"],\n",
    "    \"GRAPHQL_URL\": os.environ[\"GRAPHQL_URL\"],\n",
    "    \"AUTH_URL\": os.environ[\"AUTH_URL\"],\n",
    "    \"SCOPE\": os.environ[\"SCOPE\"]\n",
    "}\n",
    "\n",
    "# Print the secrets (hiding sensitive values)\n",
    "safe_secrets = mock_secrets.copy()\n",
    "safe_secrets[\"CLIENT_ID\"] = safe_secrets[\"CLIENT_ID\"][:10] + \"...\"\n",
    "safe_secrets[\"CLIENT_SECRET\"] = safe_secrets[\"CLIENT_SECRET\"][:10] + \"...\"\n",
    "print(\"Mock secrets:\")\n",
    "print(json.dumps(safe_secrets, indent=2))"
   ]
  },
  {
   "cell_type": "markdown",
   "metadata": {},
   "source": [
    "## Initialize Handler and Test Authentication\n",
    "\n",
    "Let's first test just the authentication part"
   ]
  },
  {
   "cell_type": "code",
   "execution_count": null,
   "metadata": {},
   "outputs": [],
   "source": [
    "# Set up temporary data directory\n",
    "data_dir = Path(\"/tmp/graphql_test\")\n",
    "data_dir.mkdir(parents=True, exist_ok=True)\n",
    "os.environ[\"DATA_DIR\"] = str(data_dir)\n",
    "\n",
    "# Initialize handler\n",
    "handler = GraphQLHandler(task_config)\n",
    "\n",
    "# Test authentication\n",
    "async def test_auth():\n",
    "    try:\n",
    "        token = await handler._get_auth_token(mock_secrets)\n",
    "        print(\"Successfully got auth token\")\n",
    "        print(f\"Token starts with: {token[:20]}...\")\n",
    "    except Exception as e:\n",
    "        print(f\"Auth failed: {str(e)}\")\n",
    "\n",
    "await test_auth()"
   ]
  },
  {
   "cell_type": "markdown",
   "metadata": {},
   "source": [
    "## Test Full Query Execution\n",
    "\n",
    "Now let's test the full query execution"
   ]
  },
  {
   "cell_type": "code",
   "execution_count": null,
   "metadata": {},
   "outputs": [],
   "source": [
    "# Test full query execution\n",
    "async def test_query():\n",
    "    try:\n",
    "        result = await handler.execute_query(mock_secrets)\n",
    "        print(\"Query succeeded!\")\n",
    "        print(\"Result:\")\n",
    "        print(json.dumps(result, indent=2))\n",
    "    except Exception as e:\n",
    "        print(f\"Query failed: {str(e)}\")\n",
    "\n",
    "await test_query()"
   ]
  },
  {
   "cell_type": "markdown",
   "metadata": {},
   "source": [
    "## Test Full Data Processing\n",
    "\n",
    "Finally, let's test the full data processing pipeline"
   ]
  },
  {
   "cell_type": "code",
   "execution_count": null,
   "metadata": {},
   "outputs": [],
   "source": [
    "# Test full data processing\n",
    "async def test_process_data():\n",
    "    try:\n",
    "        await handler.process_data()\n",
    "        print(\"Data processing succeeded!\")\n",
    "        \n",
    "        # Check output file\n",
    "        output_files = list(data_dir.glob(\"**/*.json\"))\n",
    "        print(f\"\\nOutput files:\")\n",
    "        for f in output_files:\n",
    "            print(f\"- {f}\")\n",
    "            \n",
    "            # Print first few lines of the file\n",
    "            with open(f) as fp:\n",
    "                data = json.load(fp)\n",
    "                print(\"\\nFirst few lines of data:\")\n",
    "                print(json.dumps(data, indent=2)[:500] + \"...\")\n",
    "    except Exception as e:\n",
    "        print(f\"Data processing failed: {str(e)}\")\n",
    "\n",
    "await test_process_data()"
   ]
  }
 ],
 "metadata": {
  "kernelspec": {
   "display_name": "Python 3",
   "language": "python",
   "name": "python3"
  },
  "language_info": {
   "codemirror_mode": {
    "name": "ipython",
    "version": 3
   },
   "file_extension": ".py",
   "mimetype": "text/x-python",
   "name": "python",
   "nbconvert_exporter": "python",
   "pygments_lexer": "ipython3",
   "version": "3.11.7"
  }
 },
 "nbformat": 4,
 "nbformat_minor": 4
}
