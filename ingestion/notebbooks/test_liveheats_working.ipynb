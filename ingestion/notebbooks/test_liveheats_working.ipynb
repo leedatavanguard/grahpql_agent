{
 "cells": [
  {
   "cell_type": "markdown",
   "metadata": {},
   "source": [
    "# Testing LiveHeats API with Working Implementation\n",
    "\n",
    "This notebook uses the proven working implementation to test LiveHeats API access."
   ]
  },
  {
   "cell_type": "code",
   "execution_count": null,
   "metadata": {},
   "outputs": [],
   "source": [
    "import os\n",
    "import json\n",
    "from pathlib import Path\n",
    "from dotenv import load_dotenv\n",
    "from pipelines.utils.graphql_utils import GraphQLOAuthClient\n",
    "\n",
    "# Configure logging\n",
    "import logging\n",
    "logging.basicConfig(level=logging.DEBUG)\n",
    "logger = logging.getLogger(__name__)"
   ]
  },
  {
   "cell_type": "markdown",
   "metadata": {},
   "source": [
    "## Load Environment Variables\n",
    "\n",
    "First, let's load and map our environment variables to match the working implementation"
   ]
  },
  {
   "cell_type": "code",
   "execution_count": null,
   "metadata": {},
   "outputs": [],
   "source": [
    "# Load environment variables\n",
    "env_path = Path(__file__).parents[2] / \".platform_config\" / \"dev_platform\" / \".env.liveheats\"\n",
    "load_dotenv(env_path)\n",
    "\n",
    "# Map our env vars to the expected names\n",
    "os.environ[\"LIVEHEAT_URL\"] = os.environ[\"GRAPHQL_URL\"]\n",
    "os.environ[\"LIVEHEAT_TOKEN_URL\"] = os.environ[\"AUTH_URL\"]\n",
    "os.environ[\"LIVEHEAT_CLIENT_ID\"] = os.environ[\"CLIENT_ID\"]\n",
    "os.environ[\"LIVEHEAT_CLIENT_SECRET\"] = os.environ[\"CLIENT_SECRET\"]\n",
    "os.environ[\"LIVEHEAT_SCOPE\"] = os.environ[\"SCOPE\"]\n",
    "\n",
    "# Enable testing mode\n",
    "os.environ[\"TESTING\"] = \"1\"\n",
    "\n",
    "print(\"Environment variables loaded and mapped\")\n",
    "print(f\"Using scope: {os.environ['LIVEHEAT_SCOPE']}\")"
   ]
  },
  {
   "cell_type": "markdown",
   "metadata": {},
   "source": [
    "## Initialize API Client\n",
    "\n",
    "Now let's create our API client using the working implementation"
   ]
  },
  {
   "cell_type": "code",
   "execution_count": null,
   "metadata": {},
   "outputs": [],
   "source": [
    "# Create LiveHeats API client\n",
    "api = LiveHeatAPI()\n",
    "\n",
    "# Test query\n",
    "query = \"\"\"\n",
    "    query OrganisationAthletes($id: ID!, $page: Int!, $per: Int!) {\n",
    "        organisationAthletes(id: $id, page: $page, per: $per) {\n",
    "            athletes {\n",
    "                id\n",
    "                name\n",
    "                dob\n",
    "                nationality\n",
    "                properties\n",
    "                memberships {\n",
    "                    id\n",
    "                }\n",
    "            }\n",
    "            totalCount\n",
    "        }\n",
    "    }\n",
    "\"\"\"\n",
    "\n",
    "variables = {\n",
    "    \"id\": \"1\",\n",
    "    \"page\": 1,\n",
    "    \"per\": 100\n",
    "}\n",
    "\n",
    "# Execute query with pagination\n",
    "for result in api.query(query, variables, paginate=True):\n",
    "    print(\"\\nQuery result:\")\n",
    "    print(json.dumps(result, indent=2))"
   ]
  }
 ],
 "metadata": {
  "kernelspec": {
   "display_name": "Python 3",
   "language": "python",
   "name": "python3"
  },
  "language_info": {
   "codemirror_mode": {
    "name": "ipython",
    "version": 3
   },
   "file_extension": ".py",
   "mimetype": "text/x-python",
   "name": "python",
   "nbconvert_exporter": "python",
   "pygments_lexer": "ipython3",
   "version": "3.11.7"
  }
 },
 "nbformat": 4,
 "nbformat_minor": 4
}
